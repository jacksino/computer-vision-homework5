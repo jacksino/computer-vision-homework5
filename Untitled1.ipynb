{
 "cells": [
  {
   "cell_type": "code",
   "execution_count": null,
   "id": "4c9fb44e",
   "metadata": {},
   "outputs": [],
   "source": [
    "import cv2\n",
    "import numpy as np\n",
    "\n",
    "# 读取左右视角图像\n",
    "left_img = cv2.imread('3.jpg', 0)\n",
    "right_img = cv2.imread('4.jpg', 0)\n",
    "\n",
    "# 设置SGBM算法参数\n",
    "window_size = 3\n",
    "min_disp = 0\n",
    "num_disp = 128\n",
    "block_size = window_size\n",
    "uniqueness_ratio = 10\n",
    "speckle_window_size = 100\n",
    "speckle_range = 32\n",
    "disp_12_max_diff = 1\n",
    "P1 = 8 * 3 * window_size ** 2\n",
    "P2 = 32 * 3 * window_size ** 2\n",
    "sgbm = cv2.StereoSGBM_create(minDisparity=min_disp,\n",
    "                              numDisparities=num_disp,\n",
    "                              blockSize=block_size,\n",
    "                              uniquenessRatio=uniqueness_ratio,\n",
    "                              speckleWindowSize=speckle_window_size,\n",
    "                              speckleRange=speckle_range,\n",
    "                              disp12MaxDiff=disp_12_max_diff,\n",
    "                              P1=P1,\n",
    "                              P2=P2)\n",
    "\n",
    "# 计算视差图\n",
    "disparity = sgbm.compute(left_img, right_img)\n",
    "\n",
    "# 归一化视差图\n",
    "disparity = (disparity - min_disp) / num_disp\n",
    "\n",
    "# 显示视差图\n",
    "cv2.imshow('disparity', disparity)\n",
    "cv2.waitKey(0)\n",
    "cv2.destroyAllWindows()\n"
   ]
  }
 ],
 "metadata": {
  "kernelspec": {
   "display_name": "Python 3",
   "language": "python",
   "name": "python3"
  },
  "language_info": {
   "codemirror_mode": {
    "name": "ipython",
    "version": 3
   },
   "file_extension": ".py",
   "mimetype": "text/x-python",
   "name": "python",
   "nbconvert_exporter": "python",
   "pygments_lexer": "ipython3",
   "version": "3.6.13"
  }
 },
 "nbformat": 4,
 "nbformat_minor": 5
}
